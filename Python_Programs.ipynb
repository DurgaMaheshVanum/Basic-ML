{
  "nbformat": 4,
  "nbformat_minor": 0,
  "metadata": {
    "colab": {
      "name": "Python Programs.ipynb",
      "provenance": [],
      "authorship_tag": "ABX9TyP5TmYN+eg2Xjk+fT4lGUIv",
      "include_colab_link": true
    },
    "kernelspec": {
      "name": "python3",
      "display_name": "Python 3"
    },
    "language_info": {
      "name": "python"
    }
  },
  "cells": [
    {
      "cell_type": "markdown",
      "metadata": {
        "id": "view-in-github",
        "colab_type": "text"
      },
      "source": [
        "<a href=\"https://colab.research.google.com/github/DurgaMaheshVanum/Basic-ML/blob/main/Python_Programs.ipynb\" target=\"_parent\"><img src=\"https://colab.research.google.com/assets/colab-badge.svg\" alt=\"Open In Colab\"/></a>"
      ]
    },
    {
      "cell_type": "markdown",
      "metadata": {
        "id": "MBf_WQlhbvp9"
      },
      "source": [
        "**PYTHON PROGRAMS**"
      ]
    },
    {
      "cell_type": "markdown",
      "metadata": {
        "id": "XJqni7qTbzb0"
      },
      "source": [
        "PYTHON PROGRAM TO FIND THE GIVEN NUMBER IS EVEN OR ODD"
      ]
    },
    {
      "cell_type": "code",
      "metadata": {
        "id": "O-tCcmZ_cE4m"
      },
      "source": [
        "a = int(input())\n",
        "if a%2==0 :\n",
        "  print(\"a is Even\")\n",
        "else :\n",
        "  print(\"a is Odd\")"
      ],
      "execution_count": null,
      "outputs": []
    },
    {
      "cell_type": "markdown",
      "metadata": {
        "id": "YCm-tA0Uco-J"
      },
      "source": [
        "PYTHON PROGRAM TO FIND THE GREATEST AMONG THREE NUMBERS"
      ]
    },
    {
      "cell_type": "code",
      "metadata": {
        "id": "Xh1J-0OAcv9t"
      },
      "source": [
        "a = int(input())\n",
        "b = int(input())\n",
        "c = int(input())\n",
        "if a>b and a>c :\n",
        "  print(a,\" is greater\")\n",
        "elif b>a and b>c :\n",
        "  print(b ,\"is greater\")\n",
        "else :\n",
        "  print(c,\" is greater\")"
      ],
      "execution_count": null,
      "outputs": []
    },
    {
      "cell_type": "markdown",
      "metadata": {
        "id": "Xi4x1lmidfe0"
      },
      "source": [
        "PYTHON PROGRAM TO PRINT SQUARE OF A GVEN NUMBER"
      ]
    },
    {
      "cell_type": "code",
      "metadata": {
        "id": "EuU5pvHKd5YH"
      },
      "source": [
        "a = int(input())\n",
        "print(\"The square of the given number is \",a*a)"
      ],
      "execution_count": null,
      "outputs": []
    },
    {
      "cell_type": "code",
      "metadata": {
        "id": "lQAoqraFceOx"
      },
      "source": [
        ""
      ],
      "execution_count": null,
      "outputs": []
    }
  ]
}